{
 "cells": [
  {
   "cell_type": "code",
   "execution_count": 1,
   "metadata": {},
   "outputs": [],
   "source": [
    "import glob\n",
    "from tqdm import tqdm\n",
    "import librosa\n",
    "import numpy as np\n",
    "import pandas\n",
    "import matplotlib.pyplot as plt\n",
    "import seaborn\n",
    "\n",
    "import struct\n",
    "import numpy as np\n",
    "import webrtcvad\n",
    "\n",
    "from sklearn.metrics import confusion_matrix\n",
    "from sklearn.utils import shuffle\n",
    "from sklearn.model_selection import train_test_split"
   ]
  },
  {
   "cell_type": "code",
   "execution_count": 2,
   "metadata": {},
   "outputs": [],
   "source": [
    "# Properties\n",
    "\n",
    "fs = 16000     # LibriSpeech sampling frequency [Hz]\n",
    "dur = 1        # Audio duration [s]\n",
    "win_dur = 0.02\n",
    "max_attempts = 20"
   ]
  },
  {
   "cell_type": "code",
   "execution_count": 3,
   "metadata": {},
   "outputs": [
    {
     "data": {
      "text/html": [
       "<div>\n",
       "<style scoped>\n",
       "    .dataframe tbody tr th:only-of-type {\n",
       "        vertical-align: middle;\n",
       "    }\n",
       "\n",
       "    .dataframe tbody tr th {\n",
       "        vertical-align: top;\n",
       "    }\n",
       "\n",
       "    .dataframe thead th {\n",
       "        text-align: right;\n",
       "    }\n",
       "</style>\n",
       "<table border=\"1\" class=\"dataframe\">\n",
       "  <thead>\n",
       "    <tr style=\"text-align: right;\">\n",
       "      <th></th>\n",
       "      <th>ID</th>\n",
       "      <th>SEX</th>\n",
       "      <th>SUBSET</th>\n",
       "      <th>MINUTES</th>\n",
       "      <th>NAME</th>\n",
       "    </tr>\n",
       "  </thead>\n",
       "  <tbody>\n",
       "    <tr>\n",
       "      <th>46</th>\n",
       "      <td>84</td>\n",
       "      <td>F</td>\n",
       "      <td>dev-clean</td>\n",
       "      <td>8.02</td>\n",
       "      <td>Christie Nowak</td>\n",
       "    </tr>\n",
       "    <tr>\n",
       "      <th>93</th>\n",
       "      <td>174</td>\n",
       "      <td>M</td>\n",
       "      <td>dev-clean</td>\n",
       "      <td>8.04</td>\n",
       "      <td>Peter Eastman</td>\n",
       "    </tr>\n",
       "    <tr>\n",
       "      <th>135</th>\n",
       "      <td>251</td>\n",
       "      <td>M</td>\n",
       "      <td>dev-clean</td>\n",
       "      <td>8.04</td>\n",
       "      <td>Mark Nelson</td>\n",
       "    </tr>\n",
       "    <tr>\n",
       "      <th>200</th>\n",
       "      <td>422</td>\n",
       "      <td>M</td>\n",
       "      <td>dev-clean</td>\n",
       "      <td>8.38</td>\n",
       "      <td>President Lethe</td>\n",
       "    </tr>\n",
       "    <tr>\n",
       "      <th>279</th>\n",
       "      <td>652</td>\n",
       "      <td>M</td>\n",
       "      <td>dev-clean</td>\n",
       "      <td>8.31</td>\n",
       "      <td>Scott Walter</td>\n",
       "    </tr>\n",
       "  </tbody>\n",
       "</table>\n",
       "</div>"
      ],
      "text/plain": [
       "     ID     SEX   SUBSET             MINUTES              NAME\n",
       "46      84   F    dev-clean             8.02    Christie Nowak\n",
       "93     174   M    dev-clean             8.04     Peter Eastman\n",
       "135    251   M    dev-clean             8.04       Mark Nelson\n",
       "200    422   M    dev-clean             8.38   President Lethe\n",
       "279    652   M    dev-clean             8.31      Scott Walter"
      ]
     },
     "execution_count": 3,
     "metadata": {},
     "output_type": "execute_result"
    }
   ],
   "source": [
    "# Data picking\n",
    "\n",
    "librispeech_path = 'D:\\\\Università\\\\Tesi\\\\Datasets\\\\LibriSpeech\\\\dev-clean\\\\'\n",
    "\n",
    "txt_path = 'D:\\\\Università\\\\Tesi\\\\Datasets\\\\LibriSpeech\\\\SPEAKERS2.TXT'\n",
    "data_info = pandas.read_fwf(txt_path, delimiter='\\t|')\n",
    "\n",
    "data_subset_info = data_info.loc[data_info[' SUBSET           '] == ' dev-clean        ']\n",
    "male_subset = data_subset_info.loc[data_subset_info['SEX'] == ' M ']\n",
    "female_subset = data_subset_info.loc[data_subset_info['SEX'] == ' F ']\n",
    "\n",
    "male_ID = pandas.Series.tolist(male_subset['ID   '])\n",
    "female_ID = pandas.Series.tolist(female_subset['ID   '])\n",
    "data_subset_info.head()"
   ]
  },
  {
   "cell_type": "code",
   "execution_count": 4,
   "metadata": {},
   "outputs": [
    {
     "data": {
      "text/html": [
       "<div>\n",
       "<style scoped>\n",
       "    .dataframe tbody tr th:only-of-type {\n",
       "        vertical-align: middle;\n",
       "    }\n",
       "\n",
       "    .dataframe tbody tr th {\n",
       "        vertical-align: top;\n",
       "    }\n",
       "\n",
       "    .dataframe thead th {\n",
       "        text-align: right;\n",
       "    }\n",
       "</style>\n",
       "<table border=\"1\" class=\"dataframe\">\n",
       "  <thead>\n",
       "    <tr style=\"text-align: right;\">\n",
       "      <th></th>\n",
       "      <th>ID</th>\n",
       "      <th>SEX</th>\n",
       "      <th>SUBSET</th>\n",
       "      <th>MINUTES</th>\n",
       "      <th>NAME</th>\n",
       "    </tr>\n",
       "  </thead>\n",
       "  <tbody>\n",
       "    <tr>\n",
       "      <th>93</th>\n",
       "      <td>174</td>\n",
       "      <td>M</td>\n",
       "      <td>dev-clean</td>\n",
       "      <td>8.04</td>\n",
       "      <td>Peter Eastman</td>\n",
       "    </tr>\n",
       "    <tr>\n",
       "      <th>135</th>\n",
       "      <td>251</td>\n",
       "      <td>M</td>\n",
       "      <td>dev-clean</td>\n",
       "      <td>8.04</td>\n",
       "      <td>Mark Nelson</td>\n",
       "    </tr>\n",
       "    <tr>\n",
       "      <th>200</th>\n",
       "      <td>422</td>\n",
       "      <td>M</td>\n",
       "      <td>dev-clean</td>\n",
       "      <td>8.38</td>\n",
       "      <td>President Lethe</td>\n",
       "    </tr>\n",
       "    <tr>\n",
       "      <th>279</th>\n",
       "      <td>652</td>\n",
       "      <td>M</td>\n",
       "      <td>dev-clean</td>\n",
       "      <td>8.31</td>\n",
       "      <td>Scott Walter</td>\n",
       "    </tr>\n",
       "    <tr>\n",
       "      <th>318</th>\n",
       "      <td>777</td>\n",
       "      <td>M</td>\n",
       "      <td>dev-clean</td>\n",
       "      <td>8.06</td>\n",
       "      <td>fling93</td>\n",
       "    </tr>\n",
       "  </tbody>\n",
       "</table>\n",
       "</div>"
      ],
      "text/plain": [
       "     ID     SEX   SUBSET             MINUTES              NAME\n",
       "93     174   M    dev-clean             8.04     Peter Eastman\n",
       "135    251   M    dev-clean             8.04       Mark Nelson\n",
       "200    422   M    dev-clean             8.38   President Lethe\n",
       "279    652   M    dev-clean             8.31      Scott Walter\n",
       "318    777   M    dev-clean             8.06           fling93"
      ]
     },
     "execution_count": 4,
     "metadata": {},
     "output_type": "execute_result"
    }
   ],
   "source": [
    "# Head of male subset\n",
    "\n",
    "male_subset.head()"
   ]
  },
  {
   "cell_type": "code",
   "execution_count": 5,
   "metadata": {},
   "outputs": [
    {
     "data": {
      "text/html": [
       "<div>\n",
       "<style scoped>\n",
       "    .dataframe tbody tr th:only-of-type {\n",
       "        vertical-align: middle;\n",
       "    }\n",
       "\n",
       "    .dataframe tbody tr th {\n",
       "        vertical-align: top;\n",
       "    }\n",
       "\n",
       "    .dataframe thead th {\n",
       "        text-align: right;\n",
       "    }\n",
       "</style>\n",
       "<table border=\"1\" class=\"dataframe\">\n",
       "  <thead>\n",
       "    <tr style=\"text-align: right;\">\n",
       "      <th></th>\n",
       "      <th>ID</th>\n",
       "      <th>SEX</th>\n",
       "      <th>SUBSET</th>\n",
       "      <th>MINUTES</th>\n",
       "      <th>NAME</th>\n",
       "    </tr>\n",
       "  </thead>\n",
       "  <tbody>\n",
       "    <tr>\n",
       "      <th>46</th>\n",
       "      <td>84</td>\n",
       "      <td>F</td>\n",
       "      <td>dev-clean</td>\n",
       "      <td>8.02</td>\n",
       "      <td>Christie Nowak</td>\n",
       "    </tr>\n",
       "    <tr>\n",
       "      <th>529</th>\n",
       "      <td>1462</td>\n",
       "      <td>F</td>\n",
       "      <td>dev-clean</td>\n",
       "      <td>8.04</td>\n",
       "      <td>E. Tavano</td>\n",
       "    </tr>\n",
       "    <tr>\n",
       "      <th>595</th>\n",
       "      <td>1673</td>\n",
       "      <td>F</td>\n",
       "      <td>dev-clean</td>\n",
       "      <td>8.07</td>\n",
       "      <td>Tonia</td>\n",
       "    </tr>\n",
       "    <tr>\n",
       "      <th>681</th>\n",
       "      <td>1919</td>\n",
       "      <td>F</td>\n",
       "      <td>dev-clean</td>\n",
       "      <td>8.17</td>\n",
       "      <td>nprigoda</td>\n",
       "    </tr>\n",
       "    <tr>\n",
       "      <th>700</th>\n",
       "      <td>1988</td>\n",
       "      <td>F</td>\n",
       "      <td>dev-clean</td>\n",
       "      <td>8.16</td>\n",
       "      <td>Ransom</td>\n",
       "    </tr>\n",
       "  </tbody>\n",
       "</table>\n",
       "</div>"
      ],
      "text/plain": [
       "     ID     SEX   SUBSET             MINUTES             NAME\n",
       "46      84   F    dev-clean             8.02   Christie Nowak\n",
       "529   1462   F    dev-clean             8.04        E. Tavano\n",
       "595   1673   F    dev-clean             8.07            Tonia\n",
       "681   1919   F    dev-clean             8.17         nprigoda\n",
       "700   1988   F    dev-clean             8.16           Ransom"
      ]
     },
     "execution_count": 5,
     "metadata": {},
     "output_type": "execute_result"
    }
   ],
   "source": [
    "# Head of female subset\n",
    "\n",
    "female_subset.head()"
   ]
  },
  {
   "cell_type": "code",
   "execution_count": 6,
   "metadata": {},
   "outputs": [],
   "source": [
    "# Creation of two lists of male and female speakers\n",
    "\n",
    "# male audio list\n",
    "male_audio_list = []\n",
    "for i in male_ID:\n",
    "    path = glob.glob(librispeech_path + str(i) + '/*/*.flac')\n",
    "    male_audio_list.extend(path)\n",
    "\n",
    "# female audio list\n",
    "female_audio_list = []\n",
    "for i in female_ID:\n",
    "    path = glob.glob(librispeech_path + str(i) + '/*/*.flac')\n",
    "    female_audio_list.extend(path)"
   ]
  },
  {
   "cell_type": "code",
   "execution_count": 7,
   "metadata": {},
   "outputs": [],
   "source": [
    "# Definition of Voice Activity Detector to analyze speech content of each audiofile. In a gender recognition is important\n",
    "# to ensure the right amount of speech percentage in the analyzed audiofiles \n",
    "\n",
    "def float2pcm(sig, dtype='int16'):\n",
    "    sig = np.asarray(sig)\n",
    "    if sig.dtype.kind != 'f':\n",
    "        raise TypeError(\"'sig' must be a float array\")\n",
    "    dtype = np.dtype(dtype)\n",
    "    if dtype.kind not in 'iu':\n",
    "        raise TypeError(\"'dtype' must be an integer type\")\n",
    "\n",
    "    i = np.iinfo(dtype)\n",
    "    abs_max = 2 ** (i.bits - 1)\n",
    "    offset = i.min + abs_max\n",
    "    return (sig * abs_max + offset).clip(i.min, i.max).astype(dtype)\n",
    "\n",
    "\n",
    "def run_vad(data, aggress=2, window_duration=win_dur, samplerate=fs):\n",
    "    vad = webrtcvad.Vad()\n",
    "    vad.set_mode(aggress)\n",
    "    audio = float2pcm(data)\n",
    "    raw_samples = struct.pack(\"%dh\" % len(audio), *audio)\n",
    "    samples_per_window = int(window_duration * samplerate)\n",
    "    number_windows = int(np.floor(len(audio) / samples_per_window))\n",
    "    bytes_per_sample = 2\n",
    "\n",
    "    segments = []\n",
    "    for i in np.arange(number_windows):\n",
    "        raw_frame = raw_samples[i * bytes_per_sample * samples_per_window:\n",
    "                                (i + 1) * bytes_per_sample * samples_per_window]\n",
    "        is_speech = vad.is_speech(raw_frame, sample_rate=samplerate)\n",
    "        segments.append(dict(\n",
    "            start=i * samples_per_window,\n",
    "            stop=(i + 1) * samples_per_window - 1,\n",
    "            is_speech=is_speech))\n",
    "\n",
    "    old_bool = segments[0]['is_speech']\n",
    "    new_start = segments[0]['start']\n",
    "\n",
    "    long_segments = []\n",
    "    for i, segment in enumerate(segments):\n",
    "        new_bool = segment['is_speech']\n",
    "        if old_bool == new_bool:\n",
    "            new_stop = segment['stop']\n",
    "        else:\n",
    "            long_segments.append(dict(\n",
    "                start=new_start,\n",
    "                stop=new_stop,\n",
    "                is_speech=old_bool))\n",
    "            new_start = segment['start']\n",
    "            new_stop = segment['stop']\n",
    "        old_bool = new_bool\n",
    "        if i == len(segments) - 1:\n",
    "            long_segments.append(dict(\n",
    "                start=new_start,\n",
    "                stop=new_stop,\n",
    "                is_speech=old_bool))\n",
    "    return long_segments"
   ]
  },
  {
   "cell_type": "code",
   "execution_count": 8,
   "metadata": {},
   "outputs": [],
   "source": [
    "# Definition of the function that loads the audiofile with the check on the speech percentage through VAD\n",
    "\n",
    "def audio_load(audiofile_path, attempts):\n",
    "    x, fc = librosa.load(audiofile_path, sr=fs)\n",
    "    d = len(x) / fs - dur\n",
    "    off_set = np.random.uniform(0, d)\n",
    "    x, fc = librosa.load(audiofile_path, sr=fs, duration=dur, offset=off_set)\n",
    "    percentuale = calc_percentage(run_vad(data=x))\n",
    "    if (percentuale < 50):\n",
    "        if (attempts <= max_attempts):\n",
    "            attempts += 1\n",
    "            return audio_load(audiofile_path, attempts)\n",
    "    else:\n",
    "        return x, off_set\n",
    "\n",
    "def calc_percentage(seg):\n",
    "    i = 0  # counter per is_speech 'True'\n",
    "    j = 0  # counter per is_speech 'False'\n",
    "    for s in seg:\n",
    "        for k in s:\n",
    "            if (k == 'is_speech'):\n",
    "                if (s[k] == True):\n",
    "                    i = i + s['stop'] - s['start']\n",
    "                else:\n",
    "                    j = j + s['stop'] - s['start']\n",
    "    percentuale = i / (i + j) * 100\n",
    "    return percentuale"
   ]
  },
  {
   "cell_type": "code",
   "execution_count": 9,
   "metadata": {},
   "outputs": [
    {
     "name": "stderr",
     "output_type": "stream",
     "text": [
      "100%|██████████████████████████████████████████████████████████████████████████████████████████████████████████████████████████████████████████████| 1374/1374 [00:15<00:00, 88.41it/s]\n",
      "100%|██████████████████████████████████████████████████████████████████████████████████████████████████████████████████████████████████████████████| 1329/1329 [00:15<00:00, 84.74it/s]\n"
     ]
    }
   ],
   "source": [
    "# Audio loading and features storing \n",
    "\n",
    "offset_list = []\n",
    "path_list = []\n",
    "feature_list = []\n",
    "sex_list = []\n",
    "\n",
    "for audio_path in tqdm(female_audio_list):\n",
    "    Y, offset = audio_load(audio_path, 0)\n",
    "    S_mel = librosa.feature.melspectrogram(Y, fs)\n",
    "    offset_list.append(offset)\n",
    "    path_list.append(audio_path)\n",
    "    sex_list.append('F')\n",
    "    feature_list.append(S_mel)\n",
    "    \n",
    "for audio_path in tqdm(male_audio_list):\n",
    "    Y, offset = audio_load(audio_path, 0)\n",
    "    S_mel = librosa.feature.melspectrogram(Y, fs)\n",
    "    offset_list.append(offset)\n",
    "    path_list.append(audio_path)\n",
    "    sex_list.append('M')\n",
    "    feature_list.append(S_mel)"
   ]
  },
  {
   "cell_type": "code",
   "execution_count": 10,
   "metadata": {},
   "outputs": [
    {
     "data": {
      "text/html": [
       "<div>\n",
       "<style scoped>\n",
       "    .dataframe tbody tr th:only-of-type {\n",
       "        vertical-align: middle;\n",
       "    }\n",
       "\n",
       "    .dataframe tbody tr th {\n",
       "        vertical-align: top;\n",
       "    }\n",
       "\n",
       "    .dataframe thead th {\n",
       "        text-align: right;\n",
       "    }\n",
       "</style>\n",
       "<table border=\"1\" class=\"dataframe\">\n",
       "  <thead>\n",
       "    <tr style=\"text-align: right;\">\n",
       "      <th></th>\n",
       "      <th>audio_path</th>\n",
       "      <th>sex</th>\n",
       "      <th>features</th>\n",
       "      <th>offset</th>\n",
       "    </tr>\n",
       "  </thead>\n",
       "  <tbody>\n",
       "    <tr>\n",
       "      <th>0</th>\n",
       "      <td>D:\\Università\\Tesi\\Datasets\\LibriSpeech\\dev-cl...</td>\n",
       "      <td>F</td>\n",
       "      <td>[[0.004205236, 0.002487666, 0.0009456865, 0.00...</td>\n",
       "      <td>1.089443</td>\n",
       "    </tr>\n",
       "    <tr>\n",
       "      <th>1</th>\n",
       "      <td>D:\\Università\\Tesi\\Datasets\\LibriSpeech\\dev-cl...</td>\n",
       "      <td>F</td>\n",
       "      <td>[[0.21167594, 0.14090346, 0.12621933, 0.042439...</td>\n",
       "      <td>2.458566</td>\n",
       "    </tr>\n",
       "    <tr>\n",
       "      <th>2</th>\n",
       "      <td>D:\\Università\\Tesi\\Datasets\\LibriSpeech\\dev-cl...</td>\n",
       "      <td>F</td>\n",
       "      <td>[[0.0016353275, 0.0025542893, 0.0022150427, 0....</td>\n",
       "      <td>7.025172</td>\n",
       "    </tr>\n",
       "    <tr>\n",
       "      <th>3</th>\n",
       "      <td>D:\\Università\\Tesi\\Datasets\\LibriSpeech\\dev-cl...</td>\n",
       "      <td>F</td>\n",
       "      <td>[[0.005335685, 0.060665205, 0.17838928, 0.0552...</td>\n",
       "      <td>1.520889</td>\n",
       "    </tr>\n",
       "    <tr>\n",
       "      <th>4</th>\n",
       "      <td>D:\\Università\\Tesi\\Datasets\\LibriSpeech\\dev-cl...</td>\n",
       "      <td>F</td>\n",
       "      <td>[[1.6209606e-05, 0.00078178686, 0.0023008548, ...</td>\n",
       "      <td>0.155598</td>\n",
       "    </tr>\n",
       "  </tbody>\n",
       "</table>\n",
       "</div>"
      ],
      "text/plain": [
       "                                          audio_path sex  \\\n",
       "0  D:\\Università\\Tesi\\Datasets\\LibriSpeech\\dev-cl...   F   \n",
       "1  D:\\Università\\Tesi\\Datasets\\LibriSpeech\\dev-cl...   F   \n",
       "2  D:\\Università\\Tesi\\Datasets\\LibriSpeech\\dev-cl...   F   \n",
       "3  D:\\Università\\Tesi\\Datasets\\LibriSpeech\\dev-cl...   F   \n",
       "4  D:\\Università\\Tesi\\Datasets\\LibriSpeech\\dev-cl...   F   \n",
       "\n",
       "                                            features    offset  \n",
       "0  [[0.004205236, 0.002487666, 0.0009456865, 0.00...  1.089443  \n",
       "1  [[0.21167594, 0.14090346, 0.12621933, 0.042439...  2.458566  \n",
       "2  [[0.0016353275, 0.0025542893, 0.0022150427, 0....  7.025172  \n",
       "3  [[0.005335685, 0.060665205, 0.17838928, 0.0552...  1.520889  \n",
       "4  [[1.6209606e-05, 0.00078178686, 0.0023008548, ...  0.155598  "
      ]
     },
     "execution_count": 10,
     "metadata": {},
     "output_type": "execute_result"
    }
   ],
   "source": [
    "# Dataset definition\n",
    "\n",
    "df = pandas.DataFrame({\n",
    "    'audio_path': path_list,\n",
    "    'sex': sex_list,\n",
    "    'features': feature_list,\n",
    "    'offset': offset_list\n",
    "})\n",
    "\n",
    "df.head()"
   ]
  },
  {
   "cell_type": "code",
   "execution_count": 11,
   "metadata": {},
   "outputs": [],
   "source": [
    "# Random shuffle of Dataset and data split\n",
    "\n",
    "shuffled_df = shuffle(df, random_state = 0)  # random_state = 0 for reproducible results across multiple function calls\n",
    "X = np.array(pandas.Series.tolist(shuffled_df['features']))\n",
    "labels = pandas.Series.tolist(shuffled_df['sex'])\n",
    "\n",
    "# Splitting the dataset into Train, Val and Test sets\n",
    "X_train, X_test, labels_train, labels_test = train_test_split(X, labels)\n",
    "X_train, X_val, labels_train, labels_val = train_test_split(X_train, labels_train)\n",
    "\n",
    "# Mapping the labels into numerical binary number: \n",
    "# F -> 0\n",
    "# M -> 1\n",
    "from sklearn.preprocessing import LabelBinarizer\n",
    "\n",
    "lb = LabelBinarizer()\n",
    "y_train = np.ravel(lb.fit_transform(np.array(labels_train)))\n",
    "y_val   = np.ravel(lb.fit_transform(np.array(labels_val)))\n",
    "y_test  = np.ravel(lb.fit_transform(np.array(labels_test)))\n",
    "\n",
    "# sklearn classifiers requires data arranged in the form (n_data, n_features). First 3 classifiers will be taken from sklearn\n",
    "# library, while the final classifier (CNN network) is implemented through tensorflow.keras. Here in the following\n",
    "# the required input data and labels are provided. \n",
    "\n",
    "# sklearn input data (train and test set):\n",
    "a = X_train.reshape(X_train.shape[0], X_train.shape[1]*X_train.shape[2])   # train\n",
    "b = X_test.reshape(X_test.shape[0], X_test.shape[1]*X_test.shape[2])       # test\n",
    "\n",
    "# For CNN model (x_train, y_train), (x_val, y_val) and (x_test, y_test) are used "
   ]
  },
  {
   "cell_type": "code",
   "execution_count": 12,
   "metadata": {},
   "outputs": [],
   "source": [
    "# Naive classifier: GaussianNB\n",
    "\n",
    "# Naive Bayes is the most straightforward and fast classification algorithm, \n",
    "# which is suitable for a large chunk of data. \n",
    "# Naive Bayes classifier is successfully used in various applications such as spam filtering, \n",
    "# text classification, sentiment analysis, and recommender systems.\n",
    "# from datacamp.com\n",
    "\n",
    "# it requires labels formatted as numbers [(0,1) in our example] and it computes classification\n",
    "# based on probability\n",
    "\n",
    "from sklearn.naive_bayes import GaussianNB\n",
    "from sklearn.metrics import accuracy_score\n",
    "\n",
    "# model creation\n",
    "model_NB = GaussianNB()\n",
    "# model fitting\n",
    "model_NB.fit(a, y_train)\n",
    "# model predictions\n",
    "p_train_NB = model_NB.predict(a)\n",
    "p_test_NB = model_NB.predict(b)\n",
    "# accuracy \n",
    "acc_train = accuracy_score(y_train, p_train_NB)\n",
    "acc_test  = accuracy_score(y_test, p_test_NB)"
   ]
  },
  {
   "cell_type": "code",
   "execution_count": 13,
   "metadata": {},
   "outputs": [
    {
     "name": "stdout",
     "output_type": "stream",
     "text": [
      "Accuracy on Train set is: 0.7427631578947368, Accuracy on Test set is: 0.665680473372781\n"
     ]
    },
    {
     "data": {
      "image/png": "[encoded data removed]",
      "text/plain": [
       "<Figure size 576x432 with 1 Axes>"
      ]
     },
     "metadata": {
      "needs_background": "light"
     },
     "output_type": "display_data"
    },
    {
     "data": {
      "image/png": "[encoded data removed]",
      "text/plain": [
       "<Figure size 576x432 with 1 Axes>"
      ]
     },
     "metadata": {
      "needs_background": "light"
     },
     "output_type": "display_data"
    }
   ],
   "source": [
    "# Plotting GaussianNB results\n",
    "\n",
    "print(f'Accuracy on Train set is: {acc_train}, Accuracy on Test set is: {acc_test}')\n",
    "\n",
    "data_gaussianNB_train = confusion_matrix(y_train, p_train_NB)\n",
    "data_gaussianNB_test  = confusion_matrix(y_test,  p_test_NB)\n",
    "\n",
    "plt.figure(figsize = (8,6))\n",
    "plt.title('TRAIN SET')\n",
    "seaborn.heatmap(data_gaussianNB_train, cmap=\"Blues\", annot=True, fmt='g', xticklabels=['F','M'], yticklabels=['F','M'], cbar=False)\n",
    "plt.xlabel('True')\n",
    "plt.ylabel('Predicted')\n",
    "plt.show()\n",
    "\n",
    "plt.figure(figsize = (8,6))\n",
    "plt.title('TEST SET')\n",
    "seaborn.heatmap(data_gaussianNB_test, cmap=\"Blues\", annot=True, fmt='g', xticklabels=['F','M'], yticklabels=['F','M'], cbar=False)\n",
    "plt.xlabel('True')\n",
    "plt.ylabel('Predicted')\n",
    "plt.show()"
   ]
  },
  {
   "cell_type": "code",
   "execution_count": 14,
   "metadata": {},
   "outputs": [],
   "source": [
    "# DecisionTreeClassifier\n",
    "\n",
    "# Decision trees are built using a heuristic called recursive partitioning. \n",
    "# This approach is also commonly known as \"divide and conquer\" \n",
    "# because it splits the data into subsets, which are then split repeatedly \n",
    "# into even smaller subsets, and so on and so forth until the process stops \n",
    "# when the algorithm determines the data within the subsets are sufficiently homogenous, \n",
    "# or another stopping criterion has been met.\n",
    "\n",
    "from sklearn.tree import DecisionTreeClassifier\n",
    "\n",
    "# model creation\n",
    "model_DecisionTree = DecisionTreeClassifier()\n",
    "\n",
    "# model fit\n",
    "model_DecisionTree.fit(a, labels_train)\n",
    "p_DTC_train = model_DecisionTree.predict(a)\n",
    "p_DTC_test = model_DecisionTree.predict(b)"
   ]
  },
  {
   "cell_type": "code",
   "execution_count": 15,
   "metadata": {},
   "outputs": [
    {
     "data": {
      "image/png": "[encoded data removed]",
      "text/plain": [
       "<Figure size 576x432 with 1 Axes>"
      ]
     },
     "metadata": {
      "needs_background": "light"
     },
     "output_type": "display_data"
    },
    {
     "data": {
      "image/png": "[encoded data removed]",
      "text/plain": [
       "<Figure size 576x432 with 1 Axes>"
      ]
     },
     "metadata": {
      "needs_background": "light"
     },
     "output_type": "display_data"
    }
   ],
   "source": [
    "# Plotting DecisionTreeClassifier results\n",
    "\n",
    "data_DTC_train = confusion_matrix(labels_train, p_DTC_train, labels=['M','F'])\n",
    "data_DTC_test  = confusion_matrix(labels_test,  p_DTC_test,  labels=['M','F'])\n",
    "\n",
    "plt.figure(figsize = (8,6))\n",
    "plt.title('TRAIN SET')\n",
    "seaborn.heatmap(data_DTC_train, cmap=\"Blues\", annot=True, fmt='g', xticklabels=['F','M'], yticklabels=['F','M'], cbar=False)\n",
    "plt.xlabel('True')\n",
    "plt.ylabel('Predicted')\n",
    "plt.show()\n",
    "\n",
    "plt.figure(figsize = (8,6))\n",
    "plt.title('TEST SET')\n",
    "seaborn.heatmap(data_DTC_test, cmap=\"Blues\", annot=True, fmt='g', xticklabels=['F','M'], yticklabels=['F','M'], cbar=False)\n",
    "plt.xlabel('True')\n",
    "plt.ylabel('Predicted')\n",
    "plt.show()"
   ]
  },
  {
   "cell_type": "code",
   "execution_count": 16,
   "metadata": {},
   "outputs": [],
   "source": [
    "# MLP Classifier\n",
    "\n",
    "# MultiLayer Perceptron is a feedforward artificial neural network model that maps sets of \n",
    "# input data onto a set of appropriate outputs. An MLP consists of multiple layers and each \n",
    "# layer is fully connected to the following one. The nodes of the layers are neurons using \n",
    "# nonlinear activation functions, except for the nodes of the input layer. \n",
    "# There can be one or more non-linear hidden layers between the input and the output layer.\n",
    "\n",
    "from sklearn.neural_network import MLPClassifier\n",
    "\n",
    "# model creation\n",
    "model_MLPC = MLPClassifier(hidden_layer_sizes=[10,10])   # output layer self-regulated according to input label\n",
    "# model fit\n",
    "model_MLPC.fit(a, y_train)\n",
    "p_train_MLPC = model_MLPC.predict(a)\n",
    "p_test_MLPC = model_MLPC.predict(b)\n",
    "# accuracy\n",
    "acc_MLPC_train = accuracy_score(y_train, p_train_MLPC)\n",
    "acc_MLPC_test  = accuracy_score(y_test, p_test_MLPC)"
   ]
  },
  {
   "cell_type": "code",
   "execution_count": 17,
   "metadata": {},
   "outputs": [
    {
     "name": "stdout",
     "output_type": "stream",
     "text": [
      "Accuracy on Train set is: 0.9980263157894737, Accuracy on Test set is: 0.8032544378698225\n"
     ]
    },
    {
     "data": {
      "image/png": "[encoded data removed]",
      "text/plain": [
       "<Figure size 576x432 with 1 Axes>"
      ]
     },
     "metadata": {
      "needs_background": "light"
     },
     "output_type": "display_data"
    },
    {
     "data": {
      "image/png": "[encoded data removed]",
      "text/plain": [
       "<Figure size 576x432 with 1 Axes>"
      ]
     },
     "metadata": {
      "needs_background": "light"
     },
     "output_type": "display_data"
    }
   ],
   "source": [
    "# Plotting MLPC results\n",
    "\n",
    "print(f'Accuracy on Train set is: {acc_MLPC_train}, Accuracy on Test set is: {acc_MLPC_test}')\n",
    "\n",
    "data_MLPC_train = confusion_matrix(y_train, p_train_MLPC)\n",
    "data_MLPC_test  = confusion_matrix(y_test,  p_test_MLPC)\n",
    "\n",
    "plt.figure(figsize = (8,6))\n",
    "plt.title('TRAIN SET')\n",
    "seaborn.heatmap(data_MLPC_train, cmap=\"Blues\", annot=True, fmt='g', xticklabels=['F','M'], yticklabels=['F','M'], cbar=False)\n",
    "plt.xlabel('True')\n",
    "plt.ylabel('Predicted')\n",
    "plt.show()\n",
    "\n",
    "plt.figure(figsize = (8,6))\n",
    "plt.title('TEST SET')\n",
    "seaborn.heatmap(data_MLPC_test, cmap=\"Blues\", annot=True, fmt='g', xticklabels=['F','M'], yticklabels=['F','M'], cbar=False)\n",
    "plt.xlabel('True')\n",
    "plt.ylabel('Predicted')\n",
    "plt.show()"
   ]
  },
  {
   "cell_type": "code",
   "execution_count": 18,
   "metadata": {},
   "outputs": [],
   "source": [
    "# CNN\n",
    "\n",
    "import tensorflow.keras as keras\n",
    "\n",
    "# suitable data dimensions \n",
    "X_train = X_train[..., np.newaxis]\n",
    "X_val   = X_val[..., np.newaxis]\n",
    "X_test  = X_test[..., np.newaxis]"
   ]
  },
  {
   "cell_type": "code",
   "execution_count": 19,
   "metadata": {},
   "outputs": [],
   "source": [
    "# model definition\n",
    "\n",
    "# build_model based on the architecture of the VGGISH \n",
    "\n",
    "def build_model(input_shape):\n",
    "\n",
    "    model = keras.Sequential()\n",
    "\n",
    "    #input\n",
    "    model.add(keras.layers.Conv2D(64,\n",
    "                                  (3,3),\n",
    "                                  activation='relu',\n",
    "                                  padding='same',\n",
    "                                  input_shape=input_shape))\n",
    "    \n",
    "    model.add(keras.layers.MaxPooling2D((2,2), strides=(2,2), padding='same'))\n",
    "\n",
    "    model.add(keras.layers.Conv2D(128, (3, 3), activation='relu', padding='same'))\n",
    "    model.add(keras.layers.MaxPooling2D((2, 2), strides=(2, 2), padding='same'))\n",
    "\n",
    "    model.add(keras.layers.Conv2D(256, (3, 3), activation='relu', padding='same'))\n",
    "    model.add(keras.layers.Conv2D(256, (3, 3), activation='relu', padding='same'))\n",
    "    model.add(keras.layers.MaxPooling2D((2, 2), strides=(2, 2), padding='same'))\n",
    "\n",
    "    model.add(keras.layers.Flatten())\n",
    "    model.add(keras.layers.Dense(4096, activation='relu'))\n",
    "    model.add(keras.layers.Dense(4096, activation='relu'))\n",
    "\n",
    "    # output\n",
    "    model.add(keras.layers.Dense(1, activation='sigmoid'))\n",
    "    \n",
    "    return model"
   ]
  },
  {
   "cell_type": "code",
   "execution_count": 20,
   "metadata": {},
   "outputs": [],
   "source": [
    "# useful function for CNN\n",
    "\n",
    "# prediction function\n",
    "def predict(model, X, y):\n",
    "    X = X[np.newaxis, ...]\n",
    "    prediction = model.predict(X)   # X -> [1,...,...,1]\n",
    "    predicted_index = np.argmax(prediction, axis=1) # max on the axis 1: [] 1d array (standard for classification)\n",
    "    print(f'Expected index: {y}, Predicted index: {predicted_index}')\n",
    "\n",
    "# function to plot the history of the fitting\n",
    "def plot_history(history):\n",
    "    fig, axs = plt.subplots(2)\n",
    "    # accuracy\n",
    "    axs[0].plot(history.history['accuracy'], label='train accuracy')\n",
    "    axs[0].plot(history.history['val_accuracy'], label='test accuracy')\n",
    "    axs[0].set_ylabel('Accuracy')\n",
    "    axs[0].legend(loc='lower right')\n",
    "    axs[0].grid(True)\n",
    "    # error\n",
    "    axs[1].plot(history.history['loss'], label='train error')\n",
    "    axs[1].plot(history.history['val_loss'], label='test error')\n",
    "    axs[1].set_ylabel('Error')\n",
    "    axs[1].set_xlabel('Epoch')\n",
    "    axs[1].legend(loc='upper right')\n",
    "    axs[1].grid(True)\n",
    "\n",
    "    plt.show()"
   ]
  },
  {
   "cell_type": "code",
   "execution_count": 21,
   "metadata": {},
   "outputs": [
    {
     "name": "stdout",
     "output_type": "stream",
     "text": [
      "Model: \"sequential\"\n",
      "_________________________________________________________________\n",
      "Layer (type)                 Output Shape              Param #   \n",
      "=================================================================\n",
      "conv2d (Conv2D)              (None, 128, 32, 64)       640       \n",
      "_________________________________________________________________\n",
      "max_pooling2d (MaxPooling2D) (None, 64, 16, 64)        0         \n",
      "_________________________________________________________________\n",
      "conv2d_1 (Conv2D)            (None, 64, 16, 128)       73856     \n",
      "_________________________________________________________________\n",
      "max_pooling2d_1 (MaxPooling2 (None, 32, 8, 128)        0         \n",
      "_________________________________________________________________\n",
      "conv2d_2 (Conv2D)            (None, 32, 8, 256)        295168    \n",
      "_________________________________________________________________\n",
      "conv2d_3 (Conv2D)            (None, 32, 8, 256)        590080    \n",
      "_________________________________________________________________\n",
      "max_pooling2d_2 (MaxPooling2 (None, 16, 4, 256)        0         \n",
      "_________________________________________________________________\n",
      "flatten (Flatten)            (None, 16384)             0         \n",
      "_________________________________________________________________\n",
      "dense (Dense)                (None, 4096)              67112960  \n",
      "_________________________________________________________________\n",
      "dense_1 (Dense)              (None, 4096)              16781312  \n",
      "_________________________________________________________________\n",
      "dense_2 (Dense)              (None, 1)                 4097      \n",
      "=================================================================\n",
      "Total params: 84,858,113\n",
      "Trainable params: 84,858,113\n",
      "Non-trainable params: 0\n",
      "_________________________________________________________________\n",
      "Epoch 1/50\n",
      "48/48 [==============================] - 62s 1s/step - loss: 4.6188 - accuracy: 0.6349 - val_loss: 0.5300 - val_accuracy: 0.7929\n",
      "Epoch 2/50\n",
      "48/48 [==============================] - 62s 1s/step - loss: 0.3868 - accuracy: 0.8520 - val_loss: 0.3907 - val_accuracy: 0.8304\n",
      "Epoch 3/50\n",
      "48/48 [==============================] - 62s 1s/step - loss: 0.3471 - accuracy: 0.8770 - val_loss: 0.3146 - val_accuracy: 0.8935\n",
      "Epoch 4/50\n",
      "48/48 [==============================] - 47s 971ms/step - loss: 0.2748 - accuracy: 0.9053 - val_loss: 0.4748 - val_accuracy: 0.8698\n",
      "Epoch 5/50\n",
      "48/48 [==============================] - 62s 1s/step - loss: 0.2644 - accuracy: 0.9105 - val_loss: 0.2585 - val_accuracy: 0.9112\n",
      "Epoch 6/50\n",
      "48/48 [==============================] - 47s 980ms/step - loss: 0.2176 - accuracy: 0.9270 - val_loss: 0.2682 - val_accuracy: 0.9152\n",
      "Epoch 7/50\n",
      "48/48 [==============================] - 46s 968ms/step - loss: 0.2131 - accuracy: 0.9289 - val_loss: 0.3468 - val_accuracy: 0.9014\n",
      "Epoch 8/50\n",
      "48/48 [==============================] - 47s 971ms/step - loss: 0.2110 - accuracy: 0.9283 - val_loss: 0.2612 - val_accuracy: 0.9132\n",
      "Epoch 9/50\n",
      "48/48 [==============================] - 47s 971ms/step - loss: 0.2026 - accuracy: 0.9322 - val_loss: 0.2723 - val_accuracy: 0.9132\n",
      "Epoch 10/50\n",
      "48/48 [==============================] - 50s 1s/step - loss: 0.1942 - accuracy: 0.9362 - val_loss: 0.3771 - val_accuracy: 0.9172\n",
      "Epoch 11/50\n",
      "48/48 [==============================] - 62s 1s/step - loss: 0.2338 - accuracy: 0.9211 - val_loss: 0.2565 - val_accuracy: 0.9132\n",
      "Epoch 12/50\n",
      "48/48 [==============================] - 61s 1s/step - loss: 0.2865 - accuracy: 0.9000 - val_loss: 0.2488 - val_accuracy: 0.9191\n",
      "Epoch 13/50\n",
      "48/48 [==============================] - 47s 972ms/step - loss: 0.1913 - accuracy: 0.9342 - val_loss: 0.2874 - val_accuracy: 0.9191\n",
      "Epoch 14/50\n",
      "48/48 [==============================] - 47s 970ms/step - loss: 0.1722 - accuracy: 0.9421 - val_loss: 0.2510 - val_accuracy: 0.9310\n",
      "Epoch 15/50\n",
      "48/48 [==============================] - 47s 974ms/step - loss: 0.1667 - accuracy: 0.9461 - val_loss: 0.2772 - val_accuracy: 0.9270\n",
      "Epoch 16/50\n",
      "48/48 [==============================] - 47s 972ms/step - loss: 0.1447 - accuracy: 0.9507 - val_loss: 0.3187 - val_accuracy: 0.9231\n",
      "Epoch 17/50\n",
      "48/48 [==============================] - 47s 970ms/step - loss: 0.1374 - accuracy: 0.9599 - val_loss: 0.3251 - val_accuracy: 0.9231\n",
      "Epoch 18/50\n",
      "48/48 [==============================] - 47s 980ms/step - loss: 0.1253 - accuracy: 0.9599 - val_loss: 0.4167 - val_accuracy: 0.9053\n",
      "Epoch 19/50\n",
      "48/48 [==============================] - 47s 986ms/step - loss: 0.1533 - accuracy: 0.9480 - val_loss: 0.3729 - val_accuracy: 0.9073\n",
      "Epoch 20/50\n",
      "48/48 [==============================] - 47s 972ms/step - loss: 0.1751 - accuracy: 0.9428 - val_loss: 0.4173 - val_accuracy: 0.9231\n",
      "Epoch 21/50\n",
      "48/48 [==============================] - 47s 978ms/step - loss: 0.1490 - accuracy: 0.9546 - val_loss: 0.5218 - val_accuracy: 0.9112\n",
      "Epoch 22/50\n",
      "48/48 [==============================] - 49s 1s/step - loss: 0.1706 - accuracy: 0.9493 - val_loss: 0.3359 - val_accuracy: 0.9073\n"
     ]
    },
    {
     "data": {
      "image/png": "[encoded data removed]",
      "text/plain": [
       "<Figure size 432x288 with 2 Axes>"
      ]
     },
     "metadata": {
      "needs_background": "light"
     },
     "output_type": "display_data"
    }
   ],
   "source": [
    "input_shape = (X_train.shape[1], # X_train.shape[0] would be the list\n",
    "               X_train.shape[2],\n",
    "               X_train.shape[3])\n",
    "\n",
    "# model creation\n",
    "model_CNN = build_model(input_shape)\n",
    "model_CNN.summary()\n",
    "\n",
    "# compile the network\n",
    "optimizer = keras.optimizers.Adam(learning_rate=0.001)\n",
    "model_CNN.compile(optimizer=optimizer,\n",
    "                  loss = 'binary_crossentropy',\n",
    "                  metrics = ['accuracy']\n",
    "                  )\n",
    "\n",
    "# callbacks definition\n",
    "weights_path = 'D:\\\\models_weights\\\\gendre_classification\\\\model_check_point'\n",
    "callbacks = [keras.callbacks.EarlyStopping(patience = 10),\n",
    "             keras.callbacks.ModelCheckpoint(filepath = weights_path,\n",
    "                                             save_best_only = True,\n",
    "                                             save_weights_only = True,\n",
    "                                             monitor = 'val_loss'),\n",
    "             keras.callbacks.ReduceLROnPlateau(patience=20)\n",
    "             ]\n",
    "\n",
    "# train the CNN\n",
    "history = model_CNN.fit(X_train, y_train,\n",
    "                        validation_data = (X_val, y_val),\n",
    "                        batch_size = 32,\n",
    "                        epochs = 50,\n",
    "                        callbacks=callbacks)\n",
    "\n",
    "# Plot History\n",
    "plot_history(history)"
   ]
  },
  {
   "cell_type": "code",
   "execution_count": 22,
   "metadata": {},
   "outputs": [
    {
     "name": "stdout",
     "output_type": "stream",
     "text": [
      "Best weights loaded\n",
      "22/22 [==============================] - 4s 164ms/step - loss: 0.3644 - accuracy: 0.8669\n",
      "Accuracy on the test set is 0.8668639063835144\n"
     ]
    }
   ],
   "source": [
    "# Evaluation on the test set\n",
    "\n",
    "model_CNN.load_weights(weights_path)\n",
    "print('Best weights loaded')\n",
    "\n",
    "test_error, test_accuracy = model_CNN.evaluate(X_test, y_test, verbose=1)\n",
    "print(f'Accuracy on the test set is {test_accuracy}')"
   ]
  },
  {
   "cell_type": "code",
   "execution_count": 23,
   "metadata": {},
   "outputs": [
    {
     "name": "stdout",
     "output_type": "stream",
     "text": [
      "Prediction on Train:\n",
      "48/48 [==============================] - 8s 167ms/step\n",
      "Prediction on Validation:\n",
      "16/16 [==============================] - 3s 158ms/step\n",
      "Prediction on Test:\n",
      "22/22 [==============================] - 3s 157ms/step\n"
     ]
    }
   ],
   "source": [
    "# Predictions\n",
    "\n",
    "# train\n",
    "print('Prediction on Train:')\n",
    "train_pred = (model_CNN.predict(X_train, verbose=1)>0.5).astype('int32')\n",
    "\n",
    "# val\n",
    "print('Prediction on Validation:')\n",
    "val_pred = (model_CNN.predict(X_val, verbose=1)>0.5).astype('int32')\n",
    "\n",
    "# test\n",
    "print('Prediction on Test:')\n",
    "test_pred = (model_CNN.predict(X_test, verbose=1)>0.5).astype('int32')\n",
    "\n",
    "\n",
    "# N.B. (model.predict(x)>0.5).astype('int32') standard for binary classification. It replaces predict_class()\n",
    "# function.\n",
    "# np.argmax(x, axis=1) for multiclass classification"
   ]
  },
  {
   "cell_type": "code",
   "execution_count": 24,
   "metadata": {},
   "outputs": [
    {
     "data": {
      "image/png": "[encoded data removed]",
      "text/plain": [
       "<Figure size 576x432 with 1 Axes>"
      ]
     },
     "metadata": {
      "needs_background": "light"
     },
     "output_type": "display_data"
    },
    {
     "data": {
      "image/png": "[encoded data removed]",
      "text/plain": [
       "<Figure size 576x432 with 1 Axes>"
      ]
     },
     "metadata": {
      "needs_background": "light"
     },
     "output_type": "display_data"
    },
    {
     "data": {
      "image/png": "[encoded data removed]",
      "text/plain": [
       "<Figure size 576x432 with 1 Axes>"
      ]
     },
     "metadata": {
      "needs_background": "light"
     },
     "output_type": "display_data"
    }
   ],
   "source": [
    "# Data evaluation\n",
    "\n",
    "train_cm = confusion_matrix(y_train, train_pred)\n",
    "val_cm   = confusion_matrix(y_val, val_pred)\n",
    "test_cm  = confusion_matrix(y_test, test_pred)\n",
    "\n",
    "\n",
    "plt.figure(figsize = (8,6))\n",
    "seaborn.heatmap(train_cm, cmap=\"Blues\", annot=True, fmt='d', xticklabels=['F', 'M'], yticklabels=['F','M'], cbar=False)\n",
    "plt.title('TRAIN SET')\n",
    "plt.xlabel('True')\n",
    "plt.ylabel('Predicted')\n",
    "plt.show()\n",
    "\n",
    "plt.figure(figsize = (8,6))\n",
    "seaborn.heatmap(val_cm, cmap=\"Blues\", annot=True, fmt='d', xticklabels=['F', 'M'], yticklabels=['F','M'], cbar=False)\n",
    "plt.title('VALIDATION SET')\n",
    "plt.xlabel('True')\n",
    "plt.ylabel('Predicted')\n",
    "plt.show()\n",
    "\n",
    "plt.figure(figsize = (8,6))\n",
    "seaborn.heatmap(test_cm, cmap=\"Blues\", annot=True, fmt='d', xticklabels=['F', 'M'], yticklabels=['F','M'], cbar=False)\n",
    "plt.title('TEST SET')\n",
    "plt.xlabel('True')\n",
    "plt.ylabel('Predicted')\n",
    "plt.show()"
   ]
  }
 ],
 "metadata": {
  "kernelspec": {
   "display_name": "Python 3",
   "language": "python",
   "name": "python3"
  },
  "language_info": {
   "codemirror_mode": {
    "name": "ipython",
    "version": 3
   },
   "file_extension": ".py",
   "mimetype": "text/x-python",
   "name": "python",
   "nbconvert_exporter": "python",
   "pygments_lexer": "ipython3",
   "version": "3.6.8rc1"
  }
 },
 "nbformat": 4,
 "nbformat_minor": 4
}

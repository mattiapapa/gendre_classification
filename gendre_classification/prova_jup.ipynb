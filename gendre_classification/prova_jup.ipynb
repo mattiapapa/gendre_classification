{
 "cells": [
  {
   "cell_type": "code",
   "execution_count": 1,
   "metadata": {},
   "outputs": [],
   "source": [
    "librispeech_path = 'D:\\\\Università\\\\Tesi\\\\Datasets\\\\LibriSpeech\\\\dev-clean\\\\'"
   ]
  },
  {
   "cell_type": "code",
   "execution_count": 2,
   "metadata": {},
   "outputs": [
    {
     "data": {
      "text/plain": [
       "'D:\\\\Università\\\\Tesi\\\\Datasets\\\\LibriSpeech\\\\dev-clean\\\\'"
      ]
     },
     "execution_count": 2,
     "metadata": {},
     "output_type": "execute_result"
    }
   ],
   "source": [
    "librispeech_path"
   ]
  },
  {
   "cell_type": "code",
   "execution_count": 6,
   "metadata": {},
   "outputs": [
    {
     "data": {
      "text/html": [
       "<div>\n",
       "<style scoped>\n",
       "    .dataframe tbody tr th:only-of-type {\n",
       "        vertical-align: middle;\n",
       "    }\n",
       "\n",
       "    .dataframe tbody tr th {\n",
       "        vertical-align: top;\n",
       "    }\n",
       "\n",
       "    .dataframe thead th {\n",
       "        text-align: right;\n",
       "    }\n",
       "</style>\n",
       "<table border=\"1\" class=\"dataframe\">\n",
       "  <thead>\n",
       "    <tr style=\"text-align: right;\">\n",
       "      <th></th>\n",
       "      <th>ID</th>\n",
       "      <th>|SEX|</th>\n",
       "      <th>SUBSET</th>\n",
       "      <th>|MINUTES|</th>\n",
       "      <th>NAME</th>\n",
       "    </tr>\n",
       "  </thead>\n",
       "  <tbody>\n",
       "    <tr>\n",
       "      <th>0</th>\n",
       "      <td>14</td>\n",
       "      <td>| F |</td>\n",
       "      <td>train-clean-360</td>\n",
       "      <td>| 25.03 |</td>\n",
       "      <td>Kristin LeMoine</td>\n",
       "    </tr>\n",
       "    <tr>\n",
       "      <th>1</th>\n",
       "      <td>16</td>\n",
       "      <td>| F |</td>\n",
       "      <td>train-clean-360</td>\n",
       "      <td>| 25.11 |</td>\n",
       "      <td>Alys AtteWater</td>\n",
       "    </tr>\n",
       "    <tr>\n",
       "      <th>2</th>\n",
       "      <td>17</td>\n",
       "      <td>| M |</td>\n",
       "      <td>train-clean-360</td>\n",
       "      <td>| 25.04 |</td>\n",
       "      <td>Gord Mackenzie</td>\n",
       "    </tr>\n",
       "    <tr>\n",
       "      <th>3</th>\n",
       "      <td>19</td>\n",
       "      <td>| F |</td>\n",
       "      <td>train-clean-100</td>\n",
       "      <td>| 25.19 |</td>\n",
       "      <td>Kara Shallenberg</td>\n",
       "    </tr>\n",
       "    <tr>\n",
       "      <th>4</th>\n",
       "      <td>20</td>\n",
       "      <td>| F |</td>\n",
       "      <td>train-other-500</td>\n",
       "      <td>| 30.07 |</td>\n",
       "      <td>Gesine</td>\n",
       "    </tr>\n",
       "  </tbody>\n",
       "</table>\n",
       "</div>"
      ],
      "text/plain": [
       "   ID  |SEX|           SUBSET  |MINUTES|              NAME\n",
       "0  14  | F |  train-clean-360  | 25.03 |   Kristin LeMoine\n",
       "1  16  | F |  train-clean-360  | 25.11 |    Alys AtteWater\n",
       "2  17  | M |  train-clean-360  | 25.04 |    Gord Mackenzie\n",
       "3  19  | F |  train-clean-100  | 25.19 |  Kara Shallenberg\n",
       "4  20  | F |  train-other-500  | 30.07 |            Gesine"
      ]
     },
     "execution_count": 6,
     "metadata": {},
     "output_type": "execute_result"
    }
   ],
   "source": [
    "import pandas\n",
    "txt_path = 'D:\\\\Università\\\\Tesi\\\\Datasets\\\\LibriSpeech\\\\SPEAKERS2.TXT'\n",
    "df = pandas.read_fwf(txt_path)\n",
    "df.head()"
   ]
  }
 ],
 "metadata": {
  "kernelspec": {
   "display_name": "Python 3",
   "language": "python",
   "name": "python3"
  },
  "language_info": {
   "codemirror_mode": {
    "name": "ipython",
    "version": 3
   },
   "file_extension": ".py",
   "mimetype": "text/x-python",
   "name": "python",
   "nbconvert_exporter": "python",
   "pygments_lexer": "ipython3",
   "version": "3.6.8rc1"
  }
 },
 "nbformat": 4,
 "nbformat_minor": 4
}
